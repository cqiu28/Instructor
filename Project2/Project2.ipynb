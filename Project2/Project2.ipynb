{
 "cells": [
  {
   "cell_type": "markdown",
   "metadata": {},
   "source": [
    "### 1. The Morse Potential (energies and wavefunctions)\n",
    "This potential is given by \n",
    "\n",
    "$$V(R)=D_e \\{1-exp[-(R-R_e)a]\\}^2$$\n",
    "\n",
    "Plot this for two cases (use the same frame of x and y.\n",
    "\n",
    "a) $D_e$ = 4.7 𝑒𝑉, $R_e$ = 1.4 bohr, $a$ = 1.0 bohr\n",
    "\n",
    "b) $D_e$ = 2.5 𝑒𝑉, $R_e$ = 4.4 bohr, $a$= 2.0 bohr\n",
    "    \n",
    "c) The Hamiltonian is $-\\frac{\\hbar^2}{2\\mu}\\frac{d^2}{d R^2} +V(R)$ and the PIB basis is the usual one but in R and not x. For case a), use a PIB basis (box 0 to L) to obtain the first 5 energy eigenvalues and wavefunctions converged to at least three significant figures.  Use the reduced mass of the H$_2$ molecule, which is $m_\\mathrm{p}$/2.(Don't forget to convert it to the mass in atomic units, where the unit is $m_e$!). Thinks about how to locate the box. One approach is to set the center the box at $R_e$. Maybe there is a better location. The basisw should have no less than 20 PIB functions."
   ]
  },
  {
   "cell_type": "code",
   "execution_count": null,
   "metadata": {},
   "outputs": [],
   "source": [
    "# Insert your answer here\n",
    "import numpy as np\n",
    "import matplotlib.pyplot as plt\n",
    "import ipywidgets as widgets\n",
    "from ipywidgets import interact, interact_manual\n",
    "import scipy\n",
    "import scipy.special\n",
    "import scipy.constants as cst\n",
    "import scipy.integrate\n",
    "\n",
    "# This class gives us objects that can be passed around without having to specify the parameters every time.\n",
    "class MorsePotential:\n",
    "    def __init__(self, D_e, R_e, a):\n",
    "        self.D_e = D_e # eV\n",
    "        self.R_e = R_e # a_0\n",
    "        self.a = a  # Inverse a_0\n",
    "        self.D_e_eh = D_e*cst.physical_constants['electron volt-hartree relationship'][0] # Hartree\n",
    "        self.omega = np.sqrt(2*self.D_e_eh*self.a**2/MU)\n",
    "        self.omega_xe = self.a**2/(2*MU)\n",
    "        self.xe = self.omega_xe/self.omega\n",
    "        self.get_exact_eigvals()\n",
    "\n",
    "    def get_exact_eigvals(self, start=0, end=4):\n",
    "        self.eigvals = np.array([self.omega*(_+0.5) - self.omega_xe*(_+0.5)**2 for _ in range(start,end+1)])\n",
    "        self.eigvals_ev = self.eigvals/cst.physical_constants['electron volt-hartree relationship'][0]\n",
    "        \n",
    "    def get_pot(self, R):\n",
    "        return self.D_e_eh*(1 - (np.exp(-self.a*(R-self.R_e))))**2\n",
    "    def plot(self, R_lower, R_upper, ylim):\n",
    "        f,ax = plt.subplots(figsize=(8,8))\n",
    "        R = np.linspace(R_lower, R_upper, 10000)\n",
    "        V_R = self.get_pot(R, self.D_e, self.a, self.R_e)\n",
    "        ax.plot(R, V_R)\n",
    "        ax.set_xlabel(r'$R$ / $a_0$')\n",
    "        ax.set_ylabel(r'$V(R)$ / eV')\n",
    "        ax.set_ylim(ylim)\n",
    "        ax.set_title(r'Morse potential, $D_e={D_e}$ eV, $R_e={R_e}$ $a_0$, $a={a}$ $a_0$'.format(D_e=self.D_e, R_e=self.R_e, a=self.a))\n",
    "\n",
    "# These are the functional versions of the class above. This is more convenient for interactive plotting.\n",
    "# [todo]: Interactive plotting.\n",
    "        \n",
    "def morse_potential(R, D_e, R_e, a):\n",
    "    return D_e*(1 - (np.exp(-a*(R-R_e))))**2\n",
    "\n",
    "def plot_morse_potential(R_lower, R_upper, D_e, a, R_e, ylim):\n",
    "    f,ax = plt.subplots(figsize=(8,8))\n",
    "    R = np.linspace(R_lower, R_upper, 10000)\n",
    "    V_R = morse_potential(R, D_e, a, R_e)\n",
    "    ax.plot(R, V_R)\n",
    "    ax.set_xlabel(r'$R$ / $a_0$')\n",
    "    ax.set_ylabel(r'$V(R)$ / eV')\n",
    "    ax.set_ylim(ylim)\n",
    "    ax.set_title(r'Morse potential, $D_e={D_e}$ eV, $R_e={R_e}$ $a_0$, $a={a}$ $a_0$'.format(D_e=D_e, R_e=R_e, a=a))\n",
    "plot_morse_potential(0,10,4.7,1.4,1.0,[-1,10])\n",
    "#plot_morse_potential(0,10,2.5,4.4,2.0,[-1,10])"
   ]
  },
  {
   "cell_type": "code",
   "execution_count": null,
   "metadata": {},
   "outputs": [],
   "source": [
    "#part c\n",
    "import scipy as scipy\n",
    "import numpy as np\n",
    "from math import sin\n",
    "from scipy.integrate import quad\n",
    "from numpy import linalg as LA\n",
    "L = 2.8\n",
    "Dimension = 30\n",
    "mu = 920"
   ]
  },
  {
   "cell_type": "code",
   "execution_count": null,
   "metadata": {},
   "outputs": [],
   "source": [
    "R_e = 1.4\n",
    "a = 1.0\n",
    "D_e = 4.7/27.2113961\n",
    "import math\n",
    "def v(x,m,n):\n",
    "    return sin(m * math.pi * x / L) * D_e*(1 - (np.exp(-a*(x-R_e))))**2 * sin(n * math.pi * x / L)"
   ]
  },
  {
   "cell_type": "code",
   "execution_count": null,
   "metadata": {},
   "outputs": [],
   "source": [
    "lb = 1.4 - L/2\n",
    "ub = 1.4 + L/2\n",
    "def H(Dimension,L):\n",
    "    A = np.zeros(shape=(Dimension,Dimension))\n",
    "\n",
    "    for m in range(1, Dimension + 1):\n",
    "        for n in range(1, Dimension + 1):\n",
    "            mu = 920\n",
    "            vint, verror = quad(v, lb, ub, args=(m, n))\n",
    "            result = vint \n",
    "            if m == n:\n",
    "                result =result+(n**2 * np.pi**2)/(mu * L**3)\n",
    "            A[m-1][n-1] = result\n",
    "\n",
    "    A = np.matrix(A)\n",
    "    A = A.round(3)\n",
    "    return A"
   ]
  },
  {
   "cell_type": "code",
   "execution_count": null,
   "metadata": {},
   "outputs": [],
   "source": [
    "H_matrix = H(Dimension,L)\n",
    "#print(H_matrix)"
   ]
  },
  {
   "cell_type": "code",
   "execution_count": null,
   "metadata": {},
   "outputs": [],
   "source": [
    "eigenvalue, eigenvector = LA.eigh(H_matrix)\n",
    "print(eigenvalue)"
   ]
  },
  {
   "cell_type": "code",
   "execution_count": null,
   "metadata": {},
   "outputs": [],
   "source": [
    "from math import sqrt\n",
    "%matplotlib inline\n",
    "def psi(x, n):\n",
    "    return sqrt(2 / L) * np.sin(n * math.pi * (x + L / 2) / L)\n",
    "x = np.arange(-L/2,L/2,0.001)   # start,stop,step\n",
    "# plot each psi_v in different graphs\n",
    "for i in range(6):\n",
    "    eigenfunction = 0\n",
    "    for index, vector in enumerate(np.array(eigenvector[:, i])):\n",
    "        eigenfunction += psi(x, index + 1) * vector\n",
    "    plt.plot(x, eigenfunction+2*i, label=\"v = \" + str(i))\n",
    "    plt.xlabel(\"x\")\n",
    "    plt.ylabel(\"y\")\n",
    "    plt.legend()"
   ]
  },
  {
   "cell_type": "markdown",
   "metadata": {},
   "source": [
    "### 2. Solve Morse potential with Numerov method\n",
    "\n",
    "```NumerovHO-class.ipynb``` in this directory is the example code provided by the instructor to solve the **Harmonic Oscillator** problem with Numerov method. \n",
    "We assume that $\\mu=0.948087 m_p$, where $m_p$ is the mass of proton, $\\omega=0.017$.\n",
    "We fix the number of discrete points to be 1000 in the range $x\\in[-2,2]$\n",
    "\n",
    "a) Assume that the potential has the following form with anharmonic terms $x^3$ and $x^4$, solve the problem and obtain the energy levels <0.2 Hartree. Compare the energy levels with the harmonic case. \n",
    "\n",
    "V(x)=$\\frac{1}{2}\\mu\\omega^2(x^2-0.4x^3+0.007x^4)$\n",
    "\n",
    "b) How does the energy difference between two neighbhoring vibration states change as quantum number $v$ increases?\n",
    "\n",
    "\n"
   ]
  },
  {
   "cell_type": "code",
   "execution_count": null,
   "metadata": {},
   "outputs": [],
   "source": [
    "# Insert your answer here"
   ]
  },
  {
   "cell_type": "markdown",
   "metadata": {},
   "source": [
    "### 3. Fit real diatomic molecule vibration spectrum\n",
    "\n",
    "Read in the data set for vibrational energies in cm$^{-1}$ from the file 'spectrum.csv' in the current directory.\n",
    "\n",
    "The goal is to fit $E_v$ to the following (textbook) expression \n",
    "\n",
    "$$E=(v+1/2)\\hbar\\omega - (v+1/2)^2\\hbar\\omega x_e$$\n",
    "\n",
    "Use a least squre fitting to determine $\\omega$ and $\\omega x_e$"
   ]
  },
  {
   "cell_type": "code",
   "execution_count": null,
   "metadata": {},
   "outputs": [],
   "source": [
    "# Insert your answer here"
   ]
  },
  {
   "cell_type": "markdown",
   "metadata": {},
   "source": [
    "### 4. Vibrating rotor problem\n",
    "\n",
    "For diatomic molecules, including rotation modifies the Hamiltonian in a simple way, namely\n",
    "\n",
    "$$\\hat{H}=-\\frac{\\hbar^2}{2\\mu}\\frac{d^2}{dR^2} +\\frac{\\hbar^2j(j+1)}{2\\mu R^2} + V(R),\\quad j=0,1,2,\\dots $$\n",
    "Here $V(R)$ is the Morse potential defined in Problem 1. \n",
    "\n",
    "a) Replot the potential for case a) above in problem 1 for j = 2, 4, 8\n",
    "And locate the minima for these. Note the sum of $V(R)$ and the centrifugal potential is denoted as the effective potential \n",
    "\n",
    "$$V_\\mathrm{eff}=\\frac{\\hbar^2j(j+1)}{2\\mu R^2} + V(R)$$\n",
    "\n",
    "These minima may need to be determined numerically. Do that for each j.\n",
    "\n",
    "b) Determine the first five eigenvalues for these three j values. Summarize the results in a\n",
    "table and include the results from Problem 1, which are for $j = 0$.\n",
    "\n",
    "c) You have just solved the “vibrating rotor” problem for diatomic molecules exactly."
   ]
  },
  {
   "cell_type": "markdown",
   "metadata": {},
   "source": [
    "### 5. Fits spectrum using eigenvalues from Problem 1\n",
    "\n",
    "a) Use the eigenvalues for the Morse potential\n",
    "\n",
    "$D_e$ = 4.7 𝑒𝑉, $R_e$ = 1.4 bohr, $a$ = 1.0 bohr, and j = 0\n",
    "\n",
    "in Problem 1, to perform the fits $$E_v=(v+1/2)\\hbar\\omega - (v+1/2)^2\\hbar\\omega x_e$$ for $v$ in the range 0 to 5 and then again in the range 0 to 12.\n",
    "\n",
    "\n",
    "\n",
    "b) For $v = 1$ determine eigenvalues for $j = 0, 2, 4, 8,$ i.e., $E_{v=1,j}$ Fit these using the expression\n",
    "\n",
    "$$E_{v=1,j}=Bj(j+1)+D[j(j+1)]^2$$\n",
    "\n",
    "That is determine B and D using linear least squares."
   ]
  },
  {
   "cell_type": "code",
   "execution_count": null,
   "metadata": {},
   "outputs": [],
   "source": []
  }
 ],
 "metadata": {
  "kernelspec": {
   "display_name": "Python 3 (ipykernel)",
   "language": "python",
   "name": "python3"
  },
  "language_info": {
   "codemirror_mode": {
    "name": "ipython",
    "version": 3
   },
   "file_extension": ".py",
   "mimetype": "text/x-python",
   "name": "python",
   "nbconvert_exporter": "python",
   "pygments_lexer": "ipython3",
   "version": "3.9.6"
  }
 },
 "nbformat": 4,
 "nbformat_minor": 4
}
